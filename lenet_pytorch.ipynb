{
 "cells": [
  {
   "cell_type": "markdown",
   "metadata": {},
   "source": [
    "# LeNet\n",
    "\n",
    "LeNet is a convolutional neural network architecture introduced by Yann LeCun in 1998. It was designed for handwritten digit recognition and laid the foundation for many modern CNN architectures.\n",
    "\n",
    "LeNet-5 consists of the following layers:\n",
    "\n",
    "- Input layer (32x32 grayscale image)\n",
    "\n",
    "- Convolutional layer (6 feature maps, 5x5 kernel)\n",
    "\n",
    "- Average pooling layer (2x2)\n",
    "\n",
    "- Convolutional layer (16 feature maps, 5x5 kernel)\n",
    "\n",
    "- Average pooling layer (2x2)\n",
    "\n",
    "- Fully connected layer (120 units)\n",
    "\n",
    "- Fully connected layer (84 units)\n",
    "\n",
    "- Output layer (10 units, one for each digit)\n"
   ]
  },
  {
   "cell_type": "code",
   "execution_count": 1,
   "metadata": {},
   "outputs": [],
   "source": [
    "import torch\n",
    "import torch.nn as nn\n",
    "import torch.optim as optim\n",
    "import torchvision\n",
    "import torchvision.transforms as transforms"
   ]
  },
  {
   "cell_type": "code",
   "execution_count": 2,
   "metadata": {},
   "outputs": [],
   "source": [
    "class LeNet(nn.Module):\n",
    "    def __init__(self):\n",
    "        super(LeNet, self).__init__()\n",
    "        self.conv1 = nn.Conv2d(1, 6, kernel_size=5, stride=1, padding=2)\n",
    "        self.avgpool = nn.AvgPool2d(kernel_size=2, stride=2)\n",
    "        self.conv2 = nn.Conv2d(6, 16, kernel_size=5, stride=1)\n",
    "        self.fc1 = nn.Linear(16 * 6 * 6, 120)  # Updated\n",
    "        self.fc2 = nn.Linear(120, 84)\n",
    "        self.fc3 = nn.Linear(84, 10)\n",
    "\n",
    "    def forward(self, x):\n",
    "        x = self.avgpool(torch.relu(self.conv1(x)))\n",
    "        x = self.avgpool(torch.relu(self.conv2(x)))\n",
    "        x = x.view(-1, 16 * 6 * 6)  # This remains unchanged\n",
    "        x = torch.relu(self.fc1(x))\n",
    "        x = torch.relu(self.fc2(x))\n",
    "        x = self.fc3(x)\n",
    "        return x\n"
   ]
  },
  {
   "cell_type": "markdown",
   "metadata": {},
   "source": [
    "## Hyperparameters"
   ]
  },
  {
   "cell_type": "code",
   "execution_count": 3,
   "metadata": {},
   "outputs": [],
   "source": [
    "batch_size = 64\n",
    "learning_rate = 0.001\n",
    "num_epochs = 10"
   ]
  },
  {
   "cell_type": "markdown",
   "metadata": {},
   "source": [
    "## Load and preprocess the MNIST dataset"
   ]
  },
  {
   "cell_type": "code",
   "execution_count": 4,
   "metadata": {},
   "outputs": [],
   "source": [
    "transform = transforms.Compose([\n",
    "    transforms.Resize((32, 32)),\n",
    "    transforms.ToTensor(),\n",
    "])\n",
    "\n",
    "train_dataset = torchvision.datasets.MNIST(root='./data', train=True, download=True, transform=transform)\n",
    "test_dataset = torchvision.datasets.MNIST(root='./data', train=False, download=True, transform=transform)\n",
    "\n",
    "train_loader = torch.utils.data.DataLoader(train_dataset, batch_size=batch_size, shuffle=True)\n",
    "test_loader = torch.utils.data.DataLoader(test_dataset, batch_size=batch_size, shuffle=False)"
   ]
  },
  {
   "cell_type": "markdown",
   "metadata": {},
   "source": [
    "## Initialize the model, loss function, and optimizer"
   ]
  },
  {
   "cell_type": "code",
   "execution_count": 5,
   "metadata": {},
   "outputs": [],
   "source": [
    "device = torch.device(\"cuda\" if torch.cuda.is_available() else \"cpu\")\n",
    "model = LeNet().to(device)\n",
    "criterion = nn.CrossEntropyLoss()\n",
    "optimizer = optim.Adam(model.parameters(), lr=learning_rate)"
   ]
  },
  {
   "cell_type": "markdown",
   "metadata": {},
   "source": [
    "## Training loop"
   ]
  },
  {
   "cell_type": "code",
   "execution_count": 6,
   "metadata": {},
   "outputs": [
    {
     "name": "stdout",
     "output_type": "stream",
     "text": [
      "Epoch 1/10, Batch 0/938, Loss: 2.3211\n",
      "Epoch 1/10, Batch 100/938, Loss: 0.4877\n",
      "Epoch 1/10, Batch 200/938, Loss: 0.3070\n",
      "Epoch 1/10, Batch 300/938, Loss: 0.3086\n",
      "Epoch 1/10, Batch 400/938, Loss: 0.1336\n",
      "Epoch 1/10, Batch 500/938, Loss: 0.1447\n",
      "Epoch 1/10, Batch 600/938, Loss: 0.1581\n",
      "Epoch 1/10, Batch 700/938, Loss: 0.0949\n",
      "Epoch 1/10, Batch 800/938, Loss: 0.0866\n",
      "Epoch 1/10, Batch 900/938, Loss: 0.1418\n",
      "Epoch 2/10, Batch 0/938, Loss: 0.1562\n",
      "Epoch 2/10, Batch 100/938, Loss: 0.0506\n",
      "Epoch 2/10, Batch 200/938, Loss: 0.1366\n",
      "Epoch 2/10, Batch 300/938, Loss: 0.0910\n",
      "Epoch 2/10, Batch 400/938, Loss: 0.0578\n",
      "Epoch 2/10, Batch 500/938, Loss: 0.0416\n",
      "Epoch 2/10, Batch 600/938, Loss: 0.1034\n",
      "Epoch 2/10, Batch 700/938, Loss: 0.1061\n",
      "Epoch 2/10, Batch 800/938, Loss: 0.0342\n",
      "Epoch 2/10, Batch 900/938, Loss: 0.0132\n",
      "Epoch 3/10, Batch 0/938, Loss: 0.0419\n",
      "Epoch 3/10, Batch 100/938, Loss: 0.0376\n",
      "Epoch 3/10, Batch 200/938, Loss: 0.0778\n",
      "Epoch 3/10, Batch 300/938, Loss: 0.0166\n",
      "Epoch 3/10, Batch 400/938, Loss: 0.1417\n",
      "Epoch 3/10, Batch 500/938, Loss: 0.0575\n",
      "Epoch 3/10, Batch 600/938, Loss: 0.0659\n",
      "Epoch 3/10, Batch 700/938, Loss: 0.1017\n",
      "Epoch 3/10, Batch 800/938, Loss: 0.0467\n",
      "Epoch 3/10, Batch 900/938, Loss: 0.1521\n",
      "Epoch 4/10, Batch 0/938, Loss: 0.0742\n",
      "Epoch 4/10, Batch 100/938, Loss: 0.1228\n",
      "Epoch 4/10, Batch 200/938, Loss: 0.1231\n",
      "Epoch 4/10, Batch 300/938, Loss: 0.0577\n",
      "Epoch 4/10, Batch 400/938, Loss: 0.0051\n",
      "Epoch 4/10, Batch 500/938, Loss: 0.0343\n",
      "Epoch 4/10, Batch 600/938, Loss: 0.0067\n",
      "Epoch 4/10, Batch 700/938, Loss: 0.0320\n",
      "Epoch 4/10, Batch 800/938, Loss: 0.1172\n",
      "Epoch 4/10, Batch 900/938, Loss: 0.0099\n",
      "Epoch 5/10, Batch 0/938, Loss: 0.0265\n",
      "Epoch 5/10, Batch 100/938, Loss: 0.0237\n",
      "Epoch 5/10, Batch 200/938, Loss: 0.0131\n",
      "Epoch 5/10, Batch 300/938, Loss: 0.0086\n",
      "Epoch 5/10, Batch 400/938, Loss: 0.0263\n",
      "Epoch 5/10, Batch 500/938, Loss: 0.0859\n",
      "Epoch 5/10, Batch 600/938, Loss: 0.0034\n",
      "Epoch 5/10, Batch 700/938, Loss: 0.0316\n",
      "Epoch 5/10, Batch 800/938, Loss: 0.0170\n",
      "Epoch 5/10, Batch 900/938, Loss: 0.1512\n",
      "Epoch 6/10, Batch 0/938, Loss: 0.0372\n",
      "Epoch 6/10, Batch 100/938, Loss: 0.0201\n",
      "Epoch 6/10, Batch 200/938, Loss: 0.0139\n",
      "Epoch 6/10, Batch 300/938, Loss: 0.0148\n",
      "Epoch 6/10, Batch 400/938, Loss: 0.0380\n",
      "Epoch 6/10, Batch 500/938, Loss: 0.0318\n",
      "Epoch 6/10, Batch 600/938, Loss: 0.0104\n",
      "Epoch 6/10, Batch 700/938, Loss: 0.0190\n",
      "Epoch 6/10, Batch 800/938, Loss: 0.0067\n",
      "Epoch 6/10, Batch 900/938, Loss: 0.0360\n",
      "Epoch 7/10, Batch 0/938, Loss: 0.0023\n",
      "Epoch 7/10, Batch 100/938, Loss: 0.0174\n",
      "Epoch 7/10, Batch 200/938, Loss: 0.0015\n",
      "Epoch 7/10, Batch 300/938, Loss: 0.0660\n",
      "Epoch 7/10, Batch 400/938, Loss: 0.0746\n",
      "Epoch 7/10, Batch 500/938, Loss: 0.0802\n",
      "Epoch 7/10, Batch 600/938, Loss: 0.0399\n",
      "Epoch 7/10, Batch 700/938, Loss: 0.0100\n",
      "Epoch 7/10, Batch 800/938, Loss: 0.0292\n",
      "Epoch 7/10, Batch 900/938, Loss: 0.0040\n",
      "Epoch 8/10, Batch 0/938, Loss: 0.0304\n",
      "Epoch 8/10, Batch 100/938, Loss: 0.0076\n",
      "Epoch 8/10, Batch 200/938, Loss: 0.0942\n",
      "Epoch 8/10, Batch 300/938, Loss: 0.0159\n",
      "Epoch 8/10, Batch 400/938, Loss: 0.0048\n",
      "Epoch 8/10, Batch 500/938, Loss: 0.0163\n",
      "Epoch 8/10, Batch 600/938, Loss: 0.0203\n",
      "Epoch 8/10, Batch 700/938, Loss: 0.0691\n",
      "Epoch 8/10, Batch 800/938, Loss: 0.0139\n",
      "Epoch 8/10, Batch 900/938, Loss: 0.0025\n",
      "Epoch 9/10, Batch 0/938, Loss: 0.0049\n",
      "Epoch 9/10, Batch 100/938, Loss: 0.0033\n",
      "Epoch 9/10, Batch 200/938, Loss: 0.0311\n",
      "Epoch 9/10, Batch 300/938, Loss: 0.0226\n",
      "Epoch 9/10, Batch 400/938, Loss: 0.0649\n",
      "Epoch 9/10, Batch 500/938, Loss: 0.0118\n",
      "Epoch 9/10, Batch 600/938, Loss: 0.0111\n",
      "Epoch 9/10, Batch 700/938, Loss: 0.0017\n",
      "Epoch 9/10, Batch 800/938, Loss: 0.0023\n",
      "Epoch 9/10, Batch 900/938, Loss: 0.0042\n",
      "Epoch 10/10, Batch 0/938, Loss: 0.0131\n",
      "Epoch 10/10, Batch 100/938, Loss: 0.0576\n",
      "Epoch 10/10, Batch 200/938, Loss: 0.0027\n",
      "Epoch 10/10, Batch 300/938, Loss: 0.2177\n",
      "Epoch 10/10, Batch 400/938, Loss: 0.0051\n",
      "Epoch 10/10, Batch 500/938, Loss: 0.0004\n",
      "Epoch 10/10, Batch 600/938, Loss: 0.0080\n",
      "Epoch 10/10, Batch 700/938, Loss: 0.0032\n",
      "Epoch 10/10, Batch 800/938, Loss: 0.0143\n",
      "Epoch 10/10, Batch 900/938, Loss: 0.0013\n"
     ]
    }
   ],
   "source": [
    "for epoch in range(num_epochs):\n",
    "    model.train()\n",
    "    for batch_idx, (data, target) in enumerate(train_loader):\n",
    "        data, target = data.to(device), target.to(device)\n",
    "        \n",
    "        optimizer.zero_grad()\n",
    "        output = model(data)\n",
    "        loss = criterion(output, target)\n",
    "        loss.backward()\n",
    "        optimizer.step()\n",
    "        \n",
    "        if batch_idx % 100 == 0:\n",
    "            print(f\"Epoch {epoch+1}/{num_epochs}, Batch {batch_idx}/{len(train_loader)}, Loss: {loss.item():.4f}\")\n"
   ]
  },
  {
   "cell_type": "markdown",
   "metadata": {},
   "source": [
    "## Evaluation"
   ]
  },
  {
   "cell_type": "code",
   "execution_count": 7,
   "metadata": {},
   "outputs": [
    {
     "name": "stdout",
     "output_type": "stream",
     "text": [
      "Accuracy on test set: 98.98%\n"
     ]
    }
   ],
   "source": [
    "model.eval()\n",
    "correct = 0\n",
    "total = 0\n",
    "with torch.no_grad():\n",
    "    for data, target in test_loader:\n",
    "        data, target = data.to(device), target.to(device)\n",
    "        output = model(data)\n",
    "        _, predicted = torch.max(output.data, 1)\n",
    "        total += target.size(0)\n",
    "        correct += (predicted == target).sum().item()\n",
    "\n",
    "print(f\"Accuracy on test set: {100 * correct / total:.2f}%\")"
   ]
  }
 ],
 "metadata": {
  "language_info": {
   "name": "python"
  }
 },
 "nbformat": 4,
 "nbformat_minor": 2
}
